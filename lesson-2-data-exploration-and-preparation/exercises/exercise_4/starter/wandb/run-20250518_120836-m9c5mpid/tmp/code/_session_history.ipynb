{
 "cells": [
  {
   "cell_type": "code",
   "execution_count": 1,
   "id": "07680024",
   "metadata": {},
   "outputs": [],
   "source": [
    "import wandb\n",
    "import pandas as pd\n",
    "import ydata_profiling\n",
    "import matplotlib.pyplot as plt"
   ]
  },
  {
   "cell_type": "code",
   "execution_count": 2,
   "id": "1af9254a",
   "metadata": {},
   "outputs": [],
   "source": [
    "run = wandb.init(project=\"exercise_4\", save_code=True)"
   ]
  },
  {
   "cell_type": "code",
   "execution_count": 3,
   "id": "6dfb5d6f",
   "metadata": {},
   "outputs": [
    {
     "name": "stdout",
     "output_type": "stream",
     "text": [
      "   danceability  energy  key  loudness  mode  speechiness  acousticness  \\\n",
      "0         0.831   0.814    2    -7.364     1       0.4200        0.0598   \n",
      "1         0.719   0.493    8    -7.230     1       0.0794        0.4010   \n",
      "2         0.850   0.893    5       NaN     1       0.0623        0.0138   \n",
      "3         0.476   0.781    0    -4.710     1       0.1030        0.0237   \n",
      "4         0.798   0.624    2    -7.668     1       0.2930        0.2170   \n",
      "\n",
      "   instrumentalness  liveness  valence    tempo            type  duration_ms  \\\n",
      "0          0.013400    0.0556   0.3890  156.985  audio_features       124539   \n",
      "1          0.000000    0.1180   0.1240  115.080  audio_features       224427   \n",
      "2          0.000004    0.3720   0.0391  218.050  audio_features        98821   \n",
      "3          0.000000    0.1140   0.1750  186.948  audio_features       123661   \n",
      "4          0.000000    0.1660   0.5910  147.988  audio_features       123298   \n",
      "\n",
      "   time_signature      genre                                      song_name  \\\n",
      "0               4  Dark Trap                            Mercury: Retrograde   \n",
      "1               4  Dark Trap                                      Pathology   \n",
      "2               4  Dark Trap                                       Symbiote   \n",
      "3               3  Dark Trap  ProductOfDrugs (Prod. The Virus and Antidote)   \n",
      "4               4  Dark Trap                                          Venom   \n",
      "\n",
      "  title  \n",
      "0  None  \n",
      "1  None  \n",
      "2  None  \n",
      "3  None  \n",
      "4  None  "
     ]
    }
   ],
   "source": [
    "artifact = run.use_artifact(\"exercise_4/genres_mod.parquet:latest\")\n",
    "df = pd.read_parquet(artifact.file())\n",
    "df.head()"
   ]
  },
  {
   "cell_type": "code",
   "execution_count": 4,
   "id": "d4dc6b9a",
   "metadata": {},
   "outputs": [],
   "source": [
    "from ydata_profiling import ProfileReport\n",
    "\n",
    "profile = ProfileReport(df, title=\"Pandas Profiling Report\")"
   ]
  },
  {
   "cell_type": "code",
   "execution_count": 5,
   "id": "17c14c42",
   "metadata": {},
   "outputs": [],
   "source": [
    "profile.to_widgets()"
   ]
  },
  {
   "cell_type": "code",
   "execution_count": 6,
   "id": "b2f46c87",
   "metadata": {},
   "outputs": [],
   "source": [
    "import wandb\n",
    "import pandas as pd\n",
    "import ydata_profiling\n",
    "import matplotlib.pyplot as plt"
   ]
  },
  {
   "cell_type": "code",
   "execution_count": 7,
   "id": "57b4f923",
   "metadata": {},
   "outputs": [],
   "source": [
    "run = wandb.init(project=\"exercise_4\", save_code=True)"
   ]
  }
 ],
 "metadata": {
  "kernelspec": {
   "display_name": "Python 3",
   "language": "python",
   "name": "python3"
  },
  "language_info": {
   "codemirror_mode": {
    "name": "ipython",
    "version": 3
   },
   "file_extension": ".py",
   "mimetype": "text/x-python",
   "name": "python",
   "nbconvert_exporter": "python",
   "pygments_lexer": "ipython3",
   "version": "3.12.10"
  }
 },
 "nbformat": 4,
 "nbformat_minor": 5
}
